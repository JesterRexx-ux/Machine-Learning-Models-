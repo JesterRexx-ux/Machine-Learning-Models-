{
 "cells": [
  {
   "cell_type": "code",
   "execution_count": 1,
   "metadata": {},
   "outputs": [],
   "source": [
    "import os\n",
    "import sys\n",
    "import re\n",
    "import pandas as pd\n",
    "import time\n",
    "import numpy as np\n",
    "import pickle\n",
    "from collections import Counter\n",
    "from sklearn.feature_extraction.text import TfidfVectorizer\n",
    "from sklearn.feature_extraction.text import TfidfTransformer\n",
    "from sklearn.naive_bayes import MultinomialNB\n",
    "from sklearn.feature_extraction.text import CountVectorizer\n",
    "import keras\n",
    "from keras.utils.data_utils import get_file\n",
    "from keras.utils import np_utils\n",
    "from keras.utils.np_utils import to_categorical\n",
    "from keras.models import Sequential, Model\n",
    "from keras.layers import Input, Embedding, Reshape, merge, LSTM, Bidirectional\n",
    "from keras.layers import TimeDistributed, Activation, SimpleRNN, GRU\n",
    "from keras.layers.core import Flatten, Dense, Dropout, Lambda\n",
    "from keras.layers.normalization import BatchNormalization\n",
    "from keras.optimizers import SGD, RMSprop, Adam\n",
    "from keras.metrics import categorical_crossentropy, categorical_accuracy\n",
    "from sklearn.model_selection import train_test_split\n",
    "from sklearn.metrics import precision_recall_fscore_support\n",
    "from sklearn.metrics import confusion_matrix\n",
    "from sklearn.metrics import classification_report\n",
    "from keras.layers.convolutional import *\n",
    "from keras.preprocessing import image, sequence\n",
    "from keras.preprocessing.text import Tokenizer\n",
    "import operator\n",
    "import matplotlib.pyplot as plt\n",
    "import seaborn as sns\n",
    "\n",
    "plt.style.use('ggplot')\n",
    "%matplotlib inline"
   ]
  },
  {
   "cell_type": "code",
   "execution_count": 2,
   "metadata": {},
   "outputs": [],
   "source": [
    "df=pd.read_csv(\"URL.csv\")\n",
    "cmoz=pd.read_csv('dmoz.csv')"
   ]
  },
  {
   "cell_type": "code",
   "execution_count": 3,
   "metadata": {},
   "outputs": [
    {
     "data": {
      "text/html": [
       "<div>\n",
       "<style scoped>\n",
       "    .dataframe tbody tr th:only-of-type {\n",
       "        vertical-align: middle;\n",
       "    }\n",
       "\n",
       "    .dataframe tbody tr th {\n",
       "        vertical-align: top;\n",
       "    }\n",
       "\n",
       "    .dataframe thead th {\n",
       "        text-align: right;\n",
       "    }\n",
       "</style>\n",
       "<table border=\"1\" class=\"dataframe\">\n",
       "  <thead>\n",
       "    <tr style=\"text-align: right;\">\n",
       "      <th></th>\n",
       "      <th>1</th>\n",
       "      <th>http://www.liquidgeneration.com/</th>\n",
       "      <th>Adult</th>\n",
       "    </tr>\n",
       "  </thead>\n",
       "  <tbody>\n",
       "    <tr>\n",
       "      <th>0</th>\n",
       "      <td>2</td>\n",
       "      <td>http://www.onlineanime.org/</td>\n",
       "      <td>Adult</td>\n",
       "    </tr>\n",
       "    <tr>\n",
       "      <th>1</th>\n",
       "      <td>3</td>\n",
       "      <td>http://www.ceres.dti.ne.jp/~nekoi/senno/senfir...</td>\n",
       "      <td>Adult</td>\n",
       "    </tr>\n",
       "    <tr>\n",
       "      <th>2</th>\n",
       "      <td>4</td>\n",
       "      <td>http://www.galeon.com/kmh/</td>\n",
       "      <td>Adult</td>\n",
       "    </tr>\n",
       "    <tr>\n",
       "      <th>3</th>\n",
       "      <td>5</td>\n",
       "      <td>http://www.fanworkrecs.com/</td>\n",
       "      <td>Adult</td>\n",
       "    </tr>\n",
       "  </tbody>\n",
       "</table>\n",
       "</div>"
      ],
      "text/plain": [
       "   1                   http://www.liquidgeneration.com/  Adult\n",
       "0  2                        http://www.onlineanime.org/  Adult\n",
       "1  3  http://www.ceres.dti.ne.jp/~nekoi/senno/senfir...  Adult\n",
       "2  4                         http://www.galeon.com/kmh/  Adult\n",
       "3  5                        http://www.fanworkrecs.com/  Adult"
      ]
     },
     "execution_count": 3,
     "metadata": {},
     "output_type": "execute_result"
    }
   ],
   "source": [
    "df.head(4)"
   ]
  },
  {
   "cell_type": "code",
   "execution_count": 4,
   "metadata": {},
   "outputs": [
    {
     "data": {
      "text/html": [
       "<div>\n",
       "<style scoped>\n",
       "    .dataframe tbody tr th:only-of-type {\n",
       "        vertical-align: middle;\n",
       "    }\n",
       "\n",
       "    .dataframe tbody tr th {\n",
       "        vertical-align: top;\n",
       "    }\n",
       "\n",
       "    .dataframe thead th {\n",
       "        text-align: right;\n",
       "    }\n",
       "</style>\n",
       "<table border=\"1\" class=\"dataframe\">\n",
       "  <thead>\n",
       "    <tr style=\"text-align: right;\">\n",
       "      <th></th>\n",
       "      <th>Unnamed: 0</th>\n",
       "      <th>category</th>\n",
       "      <th>title</th>\n",
       "      <th>desc</th>\n",
       "    </tr>\n",
       "  </thead>\n",
       "  <tbody>\n",
       "    <tr>\n",
       "      <th>0</th>\n",
       "      <td>1</td>\n",
       "      <td>Arts</td>\n",
       "      <td>About.com: Animation Guide</td>\n",
       "      <td>Keep up with developments in online animation ...</td>\n",
       "    </tr>\n",
       "    <tr>\n",
       "      <th>1</th>\n",
       "      <td>2</td>\n",
       "      <td>Arts</td>\n",
       "      <td>Toonhound</td>\n",
       "      <td>British cartoon, animation and comic strip cre...</td>\n",
       "    </tr>\n",
       "    <tr>\n",
       "      <th>2</th>\n",
       "      <td>3</td>\n",
       "      <td>Arts</td>\n",
       "      <td>Enculturation: From Mouse to Mouse: Overcoming...</td>\n",
       "      <td>Essay by Patricia Pisters on the animated imag...</td>\n",
       "    </tr>\n",
       "    <tr>\n",
       "      <th>3</th>\n",
       "      <td>4</td>\n",
       "      <td>Arts</td>\n",
       "      <td>Digital Media FX: The History of Animation</td>\n",
       "      <td>Michael Crandol takes an exhaustive look at th...</td>\n",
       "    </tr>\n",
       "  </tbody>\n",
       "</table>\n",
       "</div>"
      ],
      "text/plain": [
       "   Unnamed: 0 category                                              title  \\\n",
       "0           1     Arts                         About.com: Animation Guide   \n",
       "1           2     Arts                                          Toonhound   \n",
       "2           3     Arts  Enculturation: From Mouse to Mouse: Overcoming...   \n",
       "3           4     Arts         Digital Media FX: The History of Animation   \n",
       "\n",
       "                                                desc  \n",
       "0  Keep up with developments in online animation ...  \n",
       "1  British cartoon, animation and comic strip cre...  \n",
       "2  Essay by Patricia Pisters on the animated imag...  \n",
       "3  Michael Crandol takes an exhaustive look at th...  "
      ]
     },
     "execution_count": 4,
     "metadata": {},
     "output_type": "execute_result"
    }
   ],
   "source": [
    "cmoz.head(4)"
   ]
  },
  {
   "cell_type": "code",
   "execution_count": 5,
   "metadata": {},
   "outputs": [
    {
     "data": {
      "text/plain": [
       "0          Keep up with developments in online animation ...\n",
       "1          British cartoon, animation and comic strip cre...\n",
       "2          Essay by Patricia Pisters on the animated imag...\n",
       "3          Michael Crandol takes an exhaustive look at th...\n",
       "4          Chris Romano feels that the proliferation of F...\n",
       "                                 ...                        \n",
       "1195846    High school sports and athletes as well as spo...\n",
       "1195847    High school sports scores, standings, and sche...\n",
       "1195848    News, analysis, commentary, feature articles, ...\n",
       "1195849                   Headline news and feature stories.\n",
       "1195850    Features high school news and the Super 25 Ind...\n",
       "Name: desc, Length: 1195851, dtype: object"
      ]
     },
     "execution_count": 5,
     "metadata": {},
     "output_type": "execute_result"
    }
   ],
   "source": [
    "cmoz[\"desc\"]"
   ]
  },
  {
   "cell_type": "code",
   "execution_count": 6,
   "metadata": {},
   "outputs": [],
   "source": [
    "cmoz.rename(columns = {'desc':'Description'}, inplace = True) "
   ]
  },
  {
   "cell_type": "code",
   "execution_count": 7,
   "metadata": {},
   "outputs": [],
   "source": [
    "cmoz.rename(columns = {'category':'Category','title':'Title'}, inplace = True) "
   ]
  },
  {
   "cell_type": "code",
   "execution_count": 8,
   "metadata": {},
   "outputs": [
    {
     "data": {
      "text/plain": [
       "Unnamed: 0     0\n",
       "Category       0\n",
       "Title          0\n",
       "Description    0\n",
       "dtype: int64"
      ]
     },
     "execution_count": 8,
     "metadata": {},
     "output_type": "execute_result"
    }
   ],
   "source": [
    "cmoz.isnull().sum()"
   ]
  },
  {
   "cell_type": "code",
   "execution_count": 9,
   "metadata": {},
   "outputs": [
    {
     "data": {
      "text/plain": [
       "1                                   0\n",
       "http://www.liquidgeneration.com/    3\n",
       "Adult                               0\n",
       "dtype: int64"
      ]
     },
     "execution_count": 9,
     "metadata": {},
     "output_type": "execute_result"
    }
   ],
   "source": [
    "df.isnull().sum()"
   ]
  },
  {
   "cell_type": "code",
   "execution_count": 10,
   "metadata": {},
   "outputs": [
    {
     "data": {
      "text/plain": [
       "(1195851, 4)"
      ]
     },
     "execution_count": 10,
     "metadata": {},
     "output_type": "execute_result"
    }
   ],
   "source": [
    "cmoz.shape"
   ]
  },
  {
   "cell_type": "code",
   "execution_count": 11,
   "metadata": {},
   "outputs": [],
   "source": [
    "cmoz.rename(columns = {'Index':'Id'}, inplace = True) "
   ]
  },
  {
   "cell_type": "code",
   "execution_count": 12,
   "metadata": {},
   "outputs": [
    {
     "data": {
      "text/html": [
       "<div>\n",
       "<style scoped>\n",
       "    .dataframe tbody tr th:only-of-type {\n",
       "        vertical-align: middle;\n",
       "    }\n",
       "\n",
       "    .dataframe tbody tr th {\n",
       "        vertical-align: top;\n",
       "    }\n",
       "\n",
       "    .dataframe thead th {\n",
       "        text-align: right;\n",
       "    }\n",
       "</style>\n",
       "<table border=\"1\" class=\"dataframe\">\n",
       "  <thead>\n",
       "    <tr style=\"text-align: right;\">\n",
       "      <th></th>\n",
       "      <th>Unnamed: 0</th>\n",
       "      <th>Category</th>\n",
       "      <th>Title</th>\n",
       "      <th>Description</th>\n",
       "    </tr>\n",
       "  </thead>\n",
       "  <tbody>\n",
       "    <tr>\n",
       "      <th>0</th>\n",
       "      <td>1</td>\n",
       "      <td>Arts</td>\n",
       "      <td>About.com: Animation Guide</td>\n",
       "      <td>Keep up with developments in online animation ...</td>\n",
       "    </tr>\n",
       "    <tr>\n",
       "      <th>1</th>\n",
       "      <td>2</td>\n",
       "      <td>Arts</td>\n",
       "      <td>Toonhound</td>\n",
       "      <td>British cartoon, animation and comic strip cre...</td>\n",
       "    </tr>\n",
       "    <tr>\n",
       "      <th>2</th>\n",
       "      <td>3</td>\n",
       "      <td>Arts</td>\n",
       "      <td>Enculturation: From Mouse to Mouse: Overcoming...</td>\n",
       "      <td>Essay by Patricia Pisters on the animated imag...</td>\n",
       "    </tr>\n",
       "    <tr>\n",
       "      <th>3</th>\n",
       "      <td>4</td>\n",
       "      <td>Arts</td>\n",
       "      <td>Digital Media FX: The History of Animation</td>\n",
       "      <td>Michael Crandol takes an exhaustive look at th...</td>\n",
       "    </tr>\n",
       "    <tr>\n",
       "      <th>4</th>\n",
       "      <td>5</td>\n",
       "      <td>Arts</td>\n",
       "      <td>Spark Online: Only Genius Is Genius</td>\n",
       "      <td>Chris Romano feels that the proliferation of F...</td>\n",
       "    </tr>\n",
       "    <tr>\n",
       "      <th>...</th>\n",
       "      <td>...</td>\n",
       "      <td>...</td>\n",
       "      <td>...</td>\n",
       "      <td>...</td>\n",
       "    </tr>\n",
       "    <tr>\n",
       "      <th>1195846</th>\n",
       "      <td>2196856</td>\n",
       "      <td>Sports</td>\n",
       "      <td>MaxPreps.com</td>\n",
       "      <td>High school sports and athletes as well as spo...</td>\n",
       "    </tr>\n",
       "    <tr>\n",
       "      <th>1195847</th>\n",
       "      <td>2196857</td>\n",
       "      <td>Sports</td>\n",
       "      <td>My Score</td>\n",
       "      <td>High school sports scores, standings, and sche...</td>\n",
       "    </tr>\n",
       "    <tr>\n",
       "      <th>1195848</th>\n",
       "      <td>2196858</td>\n",
       "      <td>Sports</td>\n",
       "      <td>Sports Illustrated: High School Sports</td>\n",
       "      <td>News, analysis, commentary, feature articles, ...</td>\n",
       "    </tr>\n",
       "    <tr>\n",
       "      <th>1195849</th>\n",
       "      <td>2196859</td>\n",
       "      <td>Sports</td>\n",
       "      <td>Sports Illustrated: High School Sports</td>\n",
       "      <td>Headline news and feature stories.</td>\n",
       "    </tr>\n",
       "    <tr>\n",
       "      <th>1195850</th>\n",
       "      <td>2196860</td>\n",
       "      <td>Sports</td>\n",
       "      <td>USA Today: Preps</td>\n",
       "      <td>Features high school news and the Super 25 Ind...</td>\n",
       "    </tr>\n",
       "  </tbody>\n",
       "</table>\n",
       "<p>1195851 rows × 4 columns</p>\n",
       "</div>"
      ],
      "text/plain": [
       "         Unnamed: 0 Category  \\\n",
       "0                 1     Arts   \n",
       "1                 2     Arts   \n",
       "2                 3     Arts   \n",
       "3                 4     Arts   \n",
       "4                 5     Arts   \n",
       "...             ...      ...   \n",
       "1195846     2196856   Sports   \n",
       "1195847     2196857   Sports   \n",
       "1195848     2196858   Sports   \n",
       "1195849     2196859   Sports   \n",
       "1195850     2196860   Sports   \n",
       "\n",
       "                                                     Title  \\\n",
       "0                               About.com: Animation Guide   \n",
       "1                                                Toonhound   \n",
       "2        Enculturation: From Mouse to Mouse: Overcoming...   \n",
       "3               Digital Media FX: The History of Animation   \n",
       "4                      Spark Online: Only Genius Is Genius   \n",
       "...                                                    ...   \n",
       "1195846                                       MaxPreps.com   \n",
       "1195847                                           My Score   \n",
       "1195848             Sports Illustrated: High School Sports   \n",
       "1195849             Sports Illustrated: High School Sports   \n",
       "1195850                                   USA Today: Preps   \n",
       "\n",
       "                                               Description  \n",
       "0        Keep up with developments in online animation ...  \n",
       "1        British cartoon, animation and comic strip cre...  \n",
       "2        Essay by Patricia Pisters on the animated imag...  \n",
       "3        Michael Crandol takes an exhaustive look at th...  \n",
       "4        Chris Romano feels that the proliferation of F...  \n",
       "...                                                    ...  \n",
       "1195846  High school sports and athletes as well as spo...  \n",
       "1195847  High school sports scores, standings, and sche...  \n",
       "1195848  News, analysis, commentary, feature articles, ...  \n",
       "1195849                 Headline news and feature stories.  \n",
       "1195850  Features high school news and the Super 25 Ind...  \n",
       "\n",
       "[1195851 rows x 4 columns]"
      ]
     },
     "execution_count": 12,
     "metadata": {},
     "output_type": "execute_result"
    }
   ],
   "source": [
    "cmoz"
   ]
  },
  {
   "cell_type": "code",
   "execution_count": 13,
   "metadata": {},
   "outputs": [
    {
     "data": {
      "text/plain": [
       "(1562977, 3)"
      ]
     },
     "execution_count": 13,
     "metadata": {},
     "output_type": "execute_result"
    }
   ],
   "source": [
    "df.shape"
   ]
  },
  {
   "cell_type": "code",
   "execution_count": 14,
   "metadata": {},
   "outputs": [
    {
     "data": {
      "text/plain": [
       "Index(['1', 'http://www.liquidgeneration.com/', 'Adult'], dtype='object')"
      ]
     },
     "execution_count": 14,
     "metadata": {},
     "output_type": "execute_result"
    }
   ],
   "source": [
    "df.columns"
   ]
  },
  {
   "cell_type": "code",
   "execution_count": 15,
   "metadata": {},
   "outputs": [],
   "source": [
    "df.rename(columns = {'http://www.liquidgeneration.com/':'URL'}, inplace = True) "
   ]
  },
  {
   "cell_type": "code",
   "execution_count": 16,
   "metadata": {},
   "outputs": [],
   "source": [
    "df.drop([\"1\"], axis = 1, inplace = True)"
   ]
  },
  {
   "cell_type": "code",
   "execution_count": 17,
   "metadata": {},
   "outputs": [
    {
     "data": {
      "text/html": [
       "<div>\n",
       "<style scoped>\n",
       "    .dataframe tbody tr th:only-of-type {\n",
       "        vertical-align: middle;\n",
       "    }\n",
       "\n",
       "    .dataframe tbody tr th {\n",
       "        vertical-align: top;\n",
       "    }\n",
       "\n",
       "    .dataframe thead th {\n",
       "        text-align: right;\n",
       "    }\n",
       "</style>\n",
       "<table border=\"1\" class=\"dataframe\">\n",
       "  <thead>\n",
       "    <tr style=\"text-align: right;\">\n",
       "      <th></th>\n",
       "      <th>URL</th>\n",
       "      <th>Adult</th>\n",
       "    </tr>\n",
       "  </thead>\n",
       "  <tbody>\n",
       "    <tr>\n",
       "      <th>0</th>\n",
       "      <td>http://www.onlineanime.org/</td>\n",
       "      <td>Adult</td>\n",
       "    </tr>\n",
       "    <tr>\n",
       "      <th>1</th>\n",
       "      <td>http://www.ceres.dti.ne.jp/~nekoi/senno/senfir...</td>\n",
       "      <td>Adult</td>\n",
       "    </tr>\n",
       "    <tr>\n",
       "      <th>2</th>\n",
       "      <td>http://www.galeon.com/kmh/</td>\n",
       "      <td>Adult</td>\n",
       "    </tr>\n",
       "    <tr>\n",
       "      <th>3</th>\n",
       "      <td>http://www.fanworkrecs.com/</td>\n",
       "      <td>Adult</td>\n",
       "    </tr>\n",
       "    <tr>\n",
       "      <th>4</th>\n",
       "      <td>http://www.animehouse.com/</td>\n",
       "      <td>Adult</td>\n",
       "    </tr>\n",
       "  </tbody>\n",
       "</table>\n",
       "</div>"
      ],
      "text/plain": [
       "                                                 URL  Adult\n",
       "0                        http://www.onlineanime.org/  Adult\n",
       "1  http://www.ceres.dti.ne.jp/~nekoi/senno/senfir...  Adult\n",
       "2                         http://www.galeon.com/kmh/  Adult\n",
       "3                        http://www.fanworkrecs.com/  Adult\n",
       "4                         http://www.animehouse.com/  Adult"
      ]
     },
     "execution_count": 17,
     "metadata": {},
     "output_type": "execute_result"
    }
   ],
   "source": [
    "df.head()"
   ]
  },
  {
   "cell_type": "code",
   "execution_count": 18,
   "metadata": {},
   "outputs": [],
   "source": [
    "vertical_concat = pd.concat([df, cmoz], axis=0)"
   ]
  },
  {
   "cell_type": "code",
   "execution_count": 22,
   "metadata": {},
   "outputs": [],
   "source": [
    "# Id=cmoz['Id']"
   ]
  },
  {
   "cell_type": "code",
   "execution_count": 23,
   "metadata": {},
   "outputs": [],
   "source": [
    "# Id"
   ]
  },
  {
   "cell_type": "code",
   "execution_count": 24,
   "metadata": {},
   "outputs": [],
   "source": [
    "# df['Id']=Id"
   ]
  },
  {
   "cell_type": "code",
   "execution_count": 25,
   "metadata": {},
   "outputs": [
    {
     "data": {
      "text/html": [
       "<div>\n",
       "<style scoped>\n",
       "    .dataframe tbody tr th:only-of-type {\n",
       "        vertical-align: middle;\n",
       "    }\n",
       "\n",
       "    .dataframe tbody tr th {\n",
       "        vertical-align: top;\n",
       "    }\n",
       "\n",
       "    .dataframe thead th {\n",
       "        text-align: right;\n",
       "    }\n",
       "</style>\n",
       "<table border=\"1\" class=\"dataframe\">\n",
       "  <thead>\n",
       "    <tr style=\"text-align: right;\">\n",
       "      <th></th>\n",
       "      <th>URL</th>\n",
       "      <th>Adult</th>\n",
       "    </tr>\n",
       "  </thead>\n",
       "  <tbody>\n",
       "    <tr>\n",
       "      <th>0</th>\n",
       "      <td>http://www.onlineanime.org/</td>\n",
       "      <td>Adult</td>\n",
       "    </tr>\n",
       "    <tr>\n",
       "      <th>1</th>\n",
       "      <td>http://www.ceres.dti.ne.jp/~nekoi/senno/senfir...</td>\n",
       "      <td>Adult</td>\n",
       "    </tr>\n",
       "    <tr>\n",
       "      <th>2</th>\n",
       "      <td>http://www.galeon.com/kmh/</td>\n",
       "      <td>Adult</td>\n",
       "    </tr>\n",
       "    <tr>\n",
       "      <th>3</th>\n",
       "      <td>http://www.fanworkrecs.com/</td>\n",
       "      <td>Adult</td>\n",
       "    </tr>\n",
       "    <tr>\n",
       "      <th>4</th>\n",
       "      <td>http://www.animehouse.com/</td>\n",
       "      <td>Adult</td>\n",
       "    </tr>\n",
       "  </tbody>\n",
       "</table>\n",
       "</div>"
      ],
      "text/plain": [
       "                                                 URL  Adult\n",
       "0                        http://www.onlineanime.org/  Adult\n",
       "1  http://www.ceres.dti.ne.jp/~nekoi/senno/senfir...  Adult\n",
       "2                         http://www.galeon.com/kmh/  Adult\n",
       "3                        http://www.fanworkrecs.com/  Adult\n",
       "4                         http://www.animehouse.com/  Adult"
      ]
     },
     "execution_count": 25,
     "metadata": {},
     "output_type": "execute_result"
    }
   ],
   "source": [
    "df.head()"
   ]
  },
  {
   "cell_type": "code",
   "execution_count": 26,
   "metadata": {},
   "outputs": [
    {
     "data": {
      "text/plain": [
       "URL      object\n",
       "Adult    object\n",
       "dtype: object"
      ]
     },
     "metadata": {},
     "output_type": "display_data"
    }
   ],
   "source": [
    "display(df.dtypes)"
   ]
  },
  {
   "cell_type": "code",
   "execution_count": null,
   "metadata": {},
   "outputs": [],
   "source": []
  },
  {
   "cell_type": "code",
   "execution_count": 28,
   "metadata": {},
   "outputs": [],
   "source": [
    "df1=df\n",
    "cmoz1=cmoz"
   ]
  },
  {
   "cell_type": "code",
   "execution_count": 29,
   "metadata": {},
   "outputs": [
    {
     "name": "stdout",
     "output_type": "stream",
     "text": [
      "(1562977, 2)\n",
      "(1195851, 4)\n"
     ]
    }
   ],
   "source": [
    "print(df1.shape)\n",
    "print(cmoz1.shape)"
   ]
  },
  {
   "cell_type": "code",
   "execution_count": 30,
   "metadata": {},
   "outputs": [],
   "source": [
    "df2=df1.join(cmoz1)"
   ]
  },
  {
   "cell_type": "code",
   "execution_count": 31,
   "metadata": {},
   "outputs": [
    {
     "data": {
      "text/plain": [
       "<AxesSubplot:>"
      ]
     },
     "execution_count": 31,
     "metadata": {},
     "output_type": "execute_result"
    },
    {
     "data": {
      "image/png": "[encoded data removed]",
      "text/plain": [
       "<Figure size 432x288 with 2 Axes>"
      ]
     },
     "metadata": {
      "needs_background": "light"
     },
     "output_type": "display_data"
    }
   ],
   "source": [
    "sns.heatmap(df2.isnull())"
   ]
  },
  {
   "cell_type": "code",
   "execution_count": 32,
   "metadata": {},
   "outputs": [],
   "source": [
    "new_data = df2.dropna(axis = 0, how ='any')"
   ]
  },
  {
   "cell_type": "code",
   "execution_count": 33,
   "metadata": {},
   "outputs": [
    {
     "data": {
      "text/plain": [
       "<AxesSubplot:>"
      ]
     },
     "execution_count": 33,
     "metadata": {},
     "output_type": "execute_result"
    },
    {
     "data": {
      "image/png": "[encoded data removed]",
      "text/plain": [
       "<Figure size 432x288 with 2 Axes>"
      ]
     },
     "metadata": {
      "needs_background": "light"
     },
     "output_type": "display_data"
    }
   ],
   "source": [
    "sns.heatmap(new_data.isnull())"
   ]
  },
  {
   "cell_type": "code",
   "execution_count": 34,
   "metadata": {},
   "outputs": [
    {
     "data": {
      "text/plain": [
       "URL             object\n",
       "Adult           object\n",
       "Unnamed: 0     float64\n",
       "Category        object\n",
       "Title           object\n",
       "Description     object\n",
       "dtype: object"
      ]
     },
     "execution_count": 34,
     "metadata": {},
     "output_type": "execute_result"
    }
   ],
   "source": [
    "new_data.dtypes"
   ]
  },
  {
   "cell_type": "code",
   "execution_count": 35,
   "metadata": {},
   "outputs": [
    {
     "data": {
      "text/plain": [
       "array(['Adult', 'Arts', 'Business', 'Computers', 'Games', 'Health',\n",
       "       'Home', 'Kids', 'News', 'Recreation', 'Reference', 'Science',\n",
       "       'Shopping'], dtype=object)"
      ]
     },
     "execution_count": 35,
     "metadata": {},
     "output_type": "execute_result"
    }
   ],
   "source": [
    "new_data['Adult'].unique()"
   ]
  },
  {
   "cell_type": "code",
   "execution_count": 36,
   "metadata": {},
   "outputs": [
    {
     "data": {
      "text/plain": [
       "Arts          253840\n",
       "Business      240176\n",
       "Computers     117961\n",
       "Science       110286\n",
       "Recreation    106586\n",
       "Shopping       73415\n",
       "Health         60097\n",
       "Reference      58247\n",
       "Games          56477\n",
       "Kids           46182\n",
       "Adult          35324\n",
       "Home           28269\n",
       "News            8989\n",
       "Name: Adult, dtype: int64"
      ]
     },
     "execution_count": 36,
     "metadata": {},
     "output_type": "execute_result"
    }
   ],
   "source": [
    "new_data['Adult'].value_counts()"
   ]
  },
  {
   "cell_type": "code",
   "execution_count": 37,
   "metadata": {},
   "outputs": [
    {
     "data": {
      "text/plain": [
       "<AxesSubplot:>"
      ]
     },
     "execution_count": 37,
     "metadata": {},
     "output_type": "execute_result"
    },
    {
     "data": {
      "image/png": "[encoded data removed]",
      "text/plain": [
       "<Figure size 1440x504 with 1 Axes>"
      ]
     },
     "metadata": {
      "needs_background": "light"
     },
     "output_type": "display_data"
    }
   ],
   "source": [
    "new_data['Adult'].hist(figsize=(20,7),bins=11)"
   ]
  },
  {
   "cell_type": "code",
   "execution_count": 38,
   "metadata": {},
   "outputs": [
    {
     "data": {
      "text/html": [
       "<div>\n",
       "<style scoped>\n",
       "    .dataframe tbody tr th:only-of-type {\n",
       "        vertical-align: middle;\n",
       "    }\n",
       "\n",
       "    .dataframe tbody tr th {\n",
       "        vertical-align: top;\n",
       "    }\n",
       "\n",
       "    .dataframe thead th {\n",
       "        text-align: right;\n",
       "    }\n",
       "</style>\n",
       "<table border=\"1\" class=\"dataframe\">\n",
       "  <thead>\n",
       "    <tr style=\"text-align: right;\">\n",
       "      <th></th>\n",
       "      <th>URL</th>\n",
       "      <th>Adult</th>\n",
       "      <th>Unnamed: 0</th>\n",
       "      <th>Category</th>\n",
       "      <th>Title</th>\n",
       "      <th>Description</th>\n",
       "    </tr>\n",
       "  </thead>\n",
       "  <tbody>\n",
       "    <tr>\n",
       "      <th>0</th>\n",
       "      <td>http://www.onlineanime.org/</td>\n",
       "      <td>Adult</td>\n",
       "      <td>1.0</td>\n",
       "      <td>Arts</td>\n",
       "      <td>About.com: Animation Guide</td>\n",
       "      <td>Keep up with developments in online animation ...</td>\n",
       "    </tr>\n",
       "    <tr>\n",
       "      <th>1</th>\n",
       "      <td>http://www.ceres.dti.ne.jp/~nekoi/senno/senfir...</td>\n",
       "      <td>Adult</td>\n",
       "      <td>2.0</td>\n",
       "      <td>Arts</td>\n",
       "      <td>Toonhound</td>\n",
       "      <td>British cartoon, animation and comic strip cre...</td>\n",
       "    </tr>\n",
       "    <tr>\n",
       "      <th>2</th>\n",
       "      <td>http://www.galeon.com/kmh/</td>\n",
       "      <td>Adult</td>\n",
       "      <td>3.0</td>\n",
       "      <td>Arts</td>\n",
       "      <td>Enculturation: From Mouse to Mouse: Overcoming...</td>\n",
       "      <td>Essay by Patricia Pisters on the animated imag...</td>\n",
       "    </tr>\n",
       "    <tr>\n",
       "      <th>3</th>\n",
       "      <td>http://www.fanworkrecs.com/</td>\n",
       "      <td>Adult</td>\n",
       "      <td>4.0</td>\n",
       "      <td>Arts</td>\n",
       "      <td>Digital Media FX: The History of Animation</td>\n",
       "      <td>Michael Crandol takes an exhaustive look at th...</td>\n",
       "    </tr>\n",
       "    <tr>\n",
       "      <th>4</th>\n",
       "      <td>http://www.animehouse.com/</td>\n",
       "      <td>Adult</td>\n",
       "      <td>5.0</td>\n",
       "      <td>Arts</td>\n",
       "      <td>Spark Online: Only Genius Is Genius</td>\n",
       "      <td>Chris Romano feels that the proliferation of F...</td>\n",
       "    </tr>\n",
       "    <tr>\n",
       "      <th>5</th>\n",
       "      <td>http://www2.117.ne.jp/~mb1996ax/enadc.html</td>\n",
       "      <td>Adult</td>\n",
       "      <td>6.0</td>\n",
       "      <td>Arts</td>\n",
       "      <td>Richard's Animated Divots</td>\n",
       "      <td>Chronology of animated movies, television prog...</td>\n",
       "    </tr>\n",
       "  </tbody>\n",
       "</table>\n",
       "</div>"
      ],
      "text/plain": [
       "                                                 URL  Adult  Unnamed: 0  \\\n",
       "0                        http://www.onlineanime.org/  Adult         1.0   \n",
       "1  http://www.ceres.dti.ne.jp/~nekoi/senno/senfir...  Adult         2.0   \n",
       "2                         http://www.galeon.com/kmh/  Adult         3.0   \n",
       "3                        http://www.fanworkrecs.com/  Adult         4.0   \n",
       "4                         http://www.animehouse.com/  Adult         5.0   \n",
       "5         http://www2.117.ne.jp/~mb1996ax/enadc.html  Adult         6.0   \n",
       "\n",
       "  Category                                              Title  \\\n",
       "0     Arts                         About.com: Animation Guide   \n",
       "1     Arts                                          Toonhound   \n",
       "2     Arts  Enculturation: From Mouse to Mouse: Overcoming...   \n",
       "3     Arts         Digital Media FX: The History of Animation   \n",
       "4     Arts                Spark Online: Only Genius Is Genius   \n",
       "5     Arts                          Richard's Animated Divots   \n",
       "\n",
       "                                         Description  \n",
       "0  Keep up with developments in online animation ...  \n",
       "1  British cartoon, animation and comic strip cre...  \n",
       "2  Essay by Patricia Pisters on the animated imag...  \n",
       "3  Michael Crandol takes an exhaustive look at th...  \n",
       "4  Chris Romano feels that the proliferation of F...  \n",
       "5  Chronology of animated movies, television prog...  "
      ]
     },
     "execution_count": 38,
     "metadata": {},
     "output_type": "execute_result"
    }
   ],
   "source": [
    "new_data.head(6)"
   ]
  },
  {
   "cell_type": "code",
   "execution_count": 39,
   "metadata": {},
   "outputs": [
    {
     "data": {
      "text/plain": [
       "Text(0, 0.5, 'Total Number Of Individual Category')"
      ]
     },
     "execution_count": 39,
     "metadata": {},
     "output_type": "execute_result"
    },
    {
     "data": {
      "image/png": "[encoded data removed]",
      "text/plain": [
       "<Figure size 864x360 with 1 Axes>"
      ]
     },
     "metadata": {
      "needs_background": "light"
     },
     "output_type": "display_data"
    }
   ],
   "source": [
    "new_data.Category.value_counts().plot(figsize=(12,5),kind='bar',color='green')\n",
    "plt.xlabel('Category')\n",
    "plt.ylabel('Total Number Of Individual Category')"
   ]
  },
  {
   "cell_type": "code",
   "execution_count": 40,
   "metadata": {},
   "outputs": [
    {
     "name": "stderr",
     "output_type": "stream",
     "text": [
      "<ipython-input-40-3102d0031062>:1: UserWarning: Pandas doesn't allow columns to be created via a new attribute name - see https://pandas.pydata.org/pandas-docs/stable/indexing.html#attribute-access\n",
      "  new_data.desc = new_data.Title + ' ' + new_data.Description\n"
     ]
    }
   ],
   "source": [
    "new_data.desc = new_data.Title + ' ' + new_data.Description\n",
    "new_data = new_data.drop(['Title'], axis=1)\n",
    "new_data.Description = new_data.Description.str.lower()"
   ]
  },
  {
   "cell_type": "code",
   "execution_count": 41,
   "metadata": {},
   "outputs": [
    {
     "name": "stdout",
     "output_type": "stream",
     "text": [
      "984 3 106.54380862466749\n"
     ]
    },
    {
     "name": "stderr",
     "output_type": "stream",
     "text": [
      "/home/jesterrexx/.local/lib/python3.8/site-packages/seaborn/distributions.py:2551: FutureWarning: `distplot` is a deprecated function and will be removed in a future version. Please adapt your code to use either `displot` (a figure-level function with similar flexibility) or `histplot` (an axes-level function for histograms).\n",
      "  warnings.warn(msg, FutureWarning)\n"
     ]
    },
    {
     "data": {
      "text/plain": [
       "Text(0.5, 1.0, 'Description length distribution')"
      ]
     },
     "execution_count": 41,
     "metadata": {},
     "output_type": "execute_result"
    },
    {
     "data": {
      "image/png": "[encoded data removed]",
      "text/plain": [
       "<Figure size 864x360 with 1 Axes>"
      ]
     },
     "metadata": {
      "needs_background": "light"
     },
     "output_type": "display_data"
    }
   ],
   "source": [
    "lens = [len(x) for x in new_data.Description]\n",
    "plt.figure(figsize=(12, 5));\n",
    "print (max(lens), min(lens), np.mean(lens))\n",
    "sns.distplot(lens);\n",
    "plt.title('Description length distribution')"
   ]
  },
  {
   "cell_type": "code",
   "execution_count": 42,
   "metadata": {},
   "outputs": [],
   "source": [
    "import re\n",
    "vocab_size = 5100\n",
    "seq_len = 250\n",
    "words = [re.findall('[\\w\\d]+', x) for x in new_data.Description]"
   ]
  },
  {
   "cell_type": "code",
   "execution_count": 43,
   "metadata": {},
   "outputs": [],
   "source": [
    "all_words = []\n",
    "for x in words:\n",
    "    all_words += x"
   ]
  },
  {
   "cell_type": "code",
   "execution_count": 44,
   "metadata": {},
   "outputs": [],
   "source": [
    "word_to_id = Counter(all_words).most_common(vocab_size)\n"
   ]
  },
  {
   "cell_type": "code",
   "execution_count": 45,
   "metadata": {},
   "outputs": [
    {
     "data": {
      "text/plain": [
       "[('and', 1479703),\n",
       " ('of', 600272),\n",
       " ('the', 521579),\n",
       " ('in', 344399),\n",
       " ('a', 284004),\n",
       " ('for', 263353),\n",
       " ('information', 218918),\n",
       " ('to', 217291),\n",
       " ('on', 148453),\n",
       " ('with', 128540)]"
      ]
     },
     "execution_count": 45,
     "metadata": {},
     "output_type": "execute_result"
    }
   ],
   "source": [
    "word_to_id[:10]"
   ]
  },
  {
   "cell_type": "code",
   "execution_count": 46,
   "metadata": {},
   "outputs": [
    {
     "data": {
      "text/plain": [
       "[('applet', 343),\n",
       " ('vitamins', 343),\n",
       " ('unwanted', 343),\n",
       " ('creations', 342),\n",
       " ('wilmington', 342),\n",
       " ('displaying', 342),\n",
       " ('kevin', 342),\n",
       " ('might', 342),\n",
       " ('highland', 342),\n",
       " ('variations', 342)]"
      ]
     },
     "execution_count": 46,
     "metadata": {},
     "output_type": "execute_result"
    }
   ],
   "source": [
    "word_to_id[-10:]"
   ]
  },
  {
   "cell_type": "code",
   "execution_count": 47,
   "metadata": {},
   "outputs": [],
   "source": [
    "word_to_id = {x[0]:i for i, x in enumerate(word_to_id)}"
   ]
  },
  {
   "cell_type": "code",
   "execution_count": 48,
   "metadata": {},
   "outputs": [],
   "source": [
    "train = [np.array([word_to_id[y] if y in word_to_id else vocab_size-1 for y in x]) for x in words]"
   ]
  },
  {
   "cell_type": "code",
   "execution_count": 49,
   "metadata": {},
   "outputs": [],
   "source": [
    "train = sequence.pad_sequences(train, maxlen=seq_len, value=0)\n",
    "train = train.astype('float32')"
   ]
  },
  {
   "cell_type": "code",
   "execution_count": 50,
   "metadata": {},
   "outputs": [],
   "source": [
    "from sklearn import preprocessing\n",
    "le = preprocessing.LabelEncoder()\n",
    "le.fit(new_data.Category)\n",
    "y_data = le.transform(new_data.Category)\n",
    "X_data = new_data.Description.values"
   ]
  },
  {
   "cell_type": "code",
   "execution_count": 51,
   "metadata": {},
   "outputs": [],
   "source": [
    "y_data = to_categorical(y_data)\n",
    "X_train, X_test, y_train, y_test = train_test_split(train, y_data, test_size=0.3, random_state=1000)"
   ]
  },
  {
   "cell_type": "code",
   "execution_count": 52,
   "metadata": {},
   "outputs": [
    {
     "name": "stdout",
     "output_type": "stream",
     "text": [
      "Model: \"sequential\"\n",
      "_________________________________________________________________\n",
      "Layer (type)                 Output Shape              Param #   \n",
      "=================================================================\n",
      "embedding (Embedding)        (None, 250, 50)           255000    \n",
      "_________________________________________________________________\n",
      "dropout (Dropout)            (None, 250, 50)           0         \n",
      "_________________________________________________________________\n",
      "conv1d (Conv1D)              (None, 246, 64)           16064     \n",
      "_________________________________________________________________\n",
      "dropout_1 (Dropout)          (None, 246, 64)           0         \n",
      "_________________________________________________________________\n",
      "conv1d_1 (Conv1D)            (None, 242, 128)          41088     \n",
      "_________________________________________________________________\n",
      "dropout_2 (Dropout)          (None, 242, 128)          0         \n",
      "_________________________________________________________________\n",
      "max_pooling1d (MaxPooling1D) (None, 121, 128)          0         \n",
      "_________________________________________________________________\n",
      "flatten (Flatten)            (None, 15488)             0         \n",
      "_________________________________________________________________\n",
      "dense (Dense)                (None, 64)                991296    \n",
      "_________________________________________________________________\n",
      "dropout_3 (Dropout)          (None, 64)                0         \n",
      "_________________________________________________________________\n",
      "dense_1 (Dense)              (None, 13)                845       \n",
      "=================================================================\n",
      "Total params: 1,304,293\n",
      "Trainable params: 1,304,293\n",
      "Non-trainable params: 0\n",
      "_________________________________________________________________\n"
     ]
    }
   ],
   "source": [
    "model = Sequential()\n",
    "model.add(Embedding(vocab_size, 50, input_length=seq_len))\n",
    "model.add(Dropout(0.1))\n",
    "model.add(Conv1D(64,5,padding='valid',activation='relu'))\n",
    "model.add(Dropout(0.2))\n",
    "model.add(Conv1D(128,5,padding='valid',activation='relu'))\n",
    "model.add(Dropout(0.2))\n",
    "model.add(MaxPooling1D())\n",
    "model.add(Flatten())\n",
    "model.add(Dense(64, activation='relu' ))\n",
    "model.add(Dropout(0.2))\n",
    "model.add(Dense(13, activation='softmax'))\n",
    "model.summary()"
   ]
  },
  {
   "cell_type": "code",
   "execution_count": 53,
   "metadata": {},
   "outputs": [],
   "source": [
    "model.compile(loss='categorical_crossentropy',optimizer='adam',metrics=['accuracy'])"
   ]
  },
  {
   "cell_type": "code",
   "execution_count": 54,
   "metadata": {},
   "outputs": [],
   "source": [
    "model.optimizer.lr = 1e-3"
   ]
  },
  {
   "cell_type": "code",
   "execution_count": 55,
   "metadata": {},
   "outputs": [
    {
     "name": "stdout",
     "output_type": "stream",
     "text": [
      "Epoch 1/2\n",
      "13080/13080 [==============================] - 1577s 121ms/step - loss: 1.0432 - accuracy: 0.6813 - val_loss: 0.8603 - val_accuracy: 0.7331\n",
      "Epoch 2/2\n",
      "13080/13080 [==============================] - 1567s 120ms/step - loss: 0.8758 - accuracy: 0.7290 - val_loss: 0.8129 - val_accuracy: 0.7441\n"
     ]
    },
    {
     "data": {
      "text/plain": [
       "<tensorflow.python.keras.callbacks.History at 0x7fadd43309a0>"
      ]
     },
     "execution_count": 55,
     "metadata": {},
     "output_type": "execute_result"
    }
   ],
   "source": [
    "model.fit(X_train, y_train, validation_data=(X_test, y_test),epochs=2,batch_size=64)"
   ]
  },
  {
   "cell_type": "code",
   "execution_count": 56,
   "metadata": {},
   "outputs": [
    {
     "name": "stdout",
     "output_type": "stream",
     "text": [
      "              precision    recall  f1-score   support\n",
      "\n",
      "        Arts       0.84      0.77      0.80     63870\n",
      "    Business       0.82      0.78      0.80     65138\n",
      "   Computers       0.76      0.72      0.74     29368\n",
      "       Games       0.64      0.84      0.73      8272\n",
      "      Health       0.73      0.74      0.73     15009\n",
      "        Home       0.55      0.81      0.66      4557\n",
      "        News       0.51      0.64      0.57      1748\n",
      "  Recreation       0.68      0.68      0.68     24811\n",
      "   Reference       0.52      0.58      0.55     12969\n",
      "     Science       0.61      0.69      0.65     25677\n",
      "    Shopping       0.64      0.77      0.70     19443\n",
      "     Society       0.76      0.72      0.74     61912\n",
      "      Sports       0.84      0.83      0.83     25981\n",
      "\n",
      "    accuracy                           0.74    358755\n",
      "   macro avg       0.69      0.74      0.71    358755\n",
      "weighted avg       0.75      0.74      0.75    358755\n",
      "\n"
     ]
    }
   ],
   "source": [
    "from sklearn import metrics\n",
    "preds = [np.argmax(x) for x in model.predict(X_test)]\n",
    "y_test_argmax = [np.argmax(x) for x in y_test]\n",
    "print(metrics.classification_report(preds, y_test_argmax, target_names=le.classes_))"
   ]
  },
  {
   "cell_type": "code",
   "execution_count": 57,
   "metadata": {},
   "outputs": [
    {
     "data": {
      "text/plain": [
       "<AxesSubplot:>"
      ]
     },
     "execution_count": 57,
     "metadata": {},
     "output_type": "execute_result"
    },
    {
     "data": {
      "image/png": "[encoded data removed]",
      "text/plain": [
       "<Figure size 1440x1080 with 2 Axes>"
      ]
     },
     "metadata": {
      "needs_background": "light"
     },
     "output_type": "display_data"
    }
   ],
   "source": [
    "import seaborn as sn\n",
    "import pandas as pd\n",
    "import matplotlib.pyplot as plt\n",
    "import numpy as np\n",
    "%matplotlib inline\n",
    "array = confusion_matrix(y_test_argmax, preds)\n",
    "cm=np.array(array)\n",
    "cm = cm.astype('float') / cm.sum(axis=1)[:, np.newaxis]\n",
    "df_cm = pd.DataFrame(cm, index = [i for i in \"0123456789ABC\"],\n",
    "                  columns = [i for i in \"0123456789ABC\"])\n",
    "plt.figure(figsize = (20,15))\n",
    "sn.heatmap(df_cm, annot=True)"
   ]
  },
  {
   "cell_type": "code",
   "execution_count": 59,
   "metadata": {},
   "outputs": [],
   "source": [
    "# model = Sequential()\n",
    "# model.add(Embedding(max_words,50,input_length=max_len))\n",
    "# model.add(LSTM(128,dropout=0.2, recurrent_dropout=0.2))\n",
    "# model.add(Dense(4))\n",
    "# model.add(Activation('softmax'))\n",
    "# model.summary()"
   ]
  },
  {
   "cell_type": "code",
   "execution_count": null,
   "metadata": {},
   "outputs": [],
   "source": []
  },
  {
   "cell_type": "code",
   "execution_count": null,
   "metadata": {},
   "outputs": [],
   "source": []
  },
  {
   "cell_type": "code",
   "execution_count": null,
   "metadata": {},
   "outputs": [],
   "source": []
  }
 ],
 "metadata": {
  "kernelspec": {
   "display_name": "Python 3",
   "language": "python",
   "name": "python3"
  },
  "language_info": {
   "codemirror_mode": {
    "name": "ipython",
    "version": 3
   },
   "file_extension": ".py",
   "mimetype": "text/x-python",
   "name": "python",
   "nbconvert_exporter": "python",
   "pygments_lexer": "ipython3",
   "version": "3.8.5"
  }
 },
 "nbformat": 4,
 "nbformat_minor": 4
}
